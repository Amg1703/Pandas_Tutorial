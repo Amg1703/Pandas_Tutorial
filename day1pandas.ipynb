{
 "cells": [
  {
   "cell_type": "code",
   "execution_count": 19,
   "id": "45f10def-6822-4d8a-bbd5-115ebdc3f074",
   "metadata": {},
   "outputs": [
    {
     "name": "stdout",
     "output_type": "stream",
     "text": [
      "                                         date       date_id  wind  \\\n",
      "0          Sunday 14 July 2024, 18.00 — 00.00  1.720980e+12   9.0   \n",
      "1          Monday 15 July 2024, 00.00 — 06.00  1.721002e+12  14.0   \n",
      "2          Monday 15 July 2024, 06.00 — 12.00  1.721023e+12  17.0   \n",
      "3          Monday 15 July 2024, 12.00 — 18.00  1.721045e+12  13.0   \n",
      "4          Monday 15 July 2024, 18.00 — 00.00  1.721066e+12  19.0   \n",
      "...                                       ...           ...   ...   \n",
      "1063  Saturday 30 January 2010, 18.00 — 00.00  1.264874e+12  10.0   \n",
      "1064    Sunday 31 January 2010, 00.00 — 06.00  1.264896e+12   0.0   \n",
      "1065    Sunday 31 January 2010, 06.00 — 12.00  1.264918e+12   7.0   \n",
      "1066    Sunday 31 January 2010, 12.00 — 18.00  1.264939e+12  16.0   \n",
      "1067    Sunday 31 January 2010, 18.00 — 00.00  1.264961e+12   7.0   \n",
      "\n",
      "                         desc  temp    baro  hum         day  month  day_date  \\\n",
      "0               Drizzle. Fog.  30.0  1003.0   82  2024-07-14      7        14   \n",
      "1                        Fog.  29.0  1002.0   80  2024-07-15      7        15   \n",
      "2     Drizzle. Broken clouds.  29.0  1003.0   82  2024-07-15      7        15   \n",
      "3     Drizzle. Broken clouds.  29.0  1001.0   85  2024-07-15      7        15   \n",
      "4                        Fog.  29.0  1002.0   84  2024-07-15      7        15   \n",
      "...                       ...   ...     ...  ...         ...    ...       ...   \n",
      "1063          Passing clouds.  26.0  1016.0   76  2010-01-30      1        30   \n",
      "1064                   Clear.  23.0  1015.0   91  2010-01-31      1        31   \n",
      "1065                    Haze.  29.0  1017.0   75  2010-01-31      1        31   \n",
      "1066          Passing clouds.  29.0  1014.0   55  2010-01-31      1        31   \n",
      "1067          Passing clouds.  26.0  1016.0   76  2010-01-31      1        31   \n",
      "\n",
      "      year  day_name Start_hour End_hour  \n",
      "0     2024         6      18:00    00:00  \n",
      "1     2024         0      00:00    06:00  \n",
      "2     2024         0      06:00    12:00  \n",
      "3     2024         0      12:00    18:00  \n",
      "4     2024         0      18:00    00:00  \n",
      "...    ...       ...        ...      ...  \n",
      "1063  2010         5      18:00    00:00  \n",
      "1064  2010         6      00:00    06:00  \n",
      "1065  2010         6      06:00    12:00  \n",
      "1066  2010         6      12:00    18:00  \n",
      "1067  2010         6      18:00    00:00  \n",
      "\n",
      "[1068 rows x 14 columns]\n"
     ]
    }
   ],
   "source": [
    "import pandas as pd\n",
    "dataset=pd.read_csv(\"Clean15YearChennaiWeather.csv\")\n",
    "print(dataset)"
   ]
  },
  {
   "cell_type": "code",
   "execution_count": 20,
   "id": "3b0870d6-722e-478a-8a50-4a6779037eb0",
   "metadata": {},
   "outputs": [
    {
     "data": {
      "text/plain": [
       "np.float64(38.0)"
      ]
     },
     "execution_count": 20,
     "metadata": {},
     "output_type": "execute_result"
    }
   ],
   "source": [
    "# USE .max() TO GET THE MAXIMUM VALUE IN COLUMN\n",
    "dataset['temp'].max()"
   ]
  },
  {
   "cell_type": "code",
   "execution_count": 21,
   "id": "3abf3d62-db11-426a-99f6-3cee703ae0aa",
   "metadata": {},
   "outputs": [
    {
     "data": {
      "text/plain": [
       "1             Monday 15 July 2024, 00.00 — 06.00\n",
       "4             Monday 15 July 2024, 18.00 — 00.00\n",
       "5            Tuesday 16 July 2024, 00.00 — 06.00\n",
       "9          Wednesday 17 July 2024, 00.00 — 06.00\n",
       "10         Wednesday 17 July 2024, 06.00 — 12.00\n",
       "                          ...                   \n",
       "1025     Thursday 21 January 2010, 06.00 — 12.00\n",
       "1029       Friday 22 January 2010, 06.00 — 12.00\n",
       "1037       Sunday 24 January 2010, 06.00 — 12.00\n",
       "1049    Wednesday 27 January 2010, 06.00 — 12.00\n",
       "1061     Saturday 30 January 2010, 06.00 — 12.00\n",
       "Name: date, Length: 157, dtype: object"
      ]
     },
     "execution_count": 21,
     "metadata": {},
     "output_type": "execute_result"
    }
   ],
   "source": [
    "# YOU CAN USE THE NESTED FUNCTION TO GET THE PARTICULAR DAYS IN WHICH IT IS OF PARTICULAR WEATHER\n",
    "dataset['date'][dataset['desc']=='Fog.']"
   ]
  },
  {
   "cell_type": "code",
   "execution_count": 25,
   "id": "d1fa3b43-db22-44ff-8e9c-ba8c19944584",
   "metadata": {},
   "outputs": [
    {
     "data": {
      "text/plain": [
       "np.float64(29.4625468164794)"
      ]
     },
     "execution_count": 25,
     "metadata": {},
     "output_type": "execute_result"
    }
   ],
   "source": [
    "# TO REPLACE NAN VALUES WITH 0 WE CAN USE THE PROGRAM\n",
    "dataset.fillna(0, inplace=True)\n",
    "# TO FIND THE AVERAGE OF ALL THE VALUES IN A COLUMN\n",
    "dataset['temp'].mean()"
   ]
  },
  {
   "cell_type": "code",
   "execution_count": null,
   "id": "f45b83cb-9e0c-4d3c-b0fc-2fda21c2bb3d",
   "metadata": {},
   "outputs": [],
   "source": []
  }
 ],
 "metadata": {
  "kernelspec": {
   "display_name": "Python 3 (ipykernel)",
   "language": "python",
   "name": "python3"
  },
  "language_info": {
   "codemirror_mode": {
    "name": "ipython",
    "version": 3
   },
   "file_extension": ".py",
   "mimetype": "text/x-python",
   "name": "python",
   "nbconvert_exporter": "python",
   "pygments_lexer": "ipython3",
   "version": "3.10.9"
  }
 },
 "nbformat": 4,
 "nbformat_minor": 5
}
